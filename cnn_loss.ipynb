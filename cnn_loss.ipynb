{
 "cells": [
  {
   "cell_type": "code",
   "execution_count": 1,
   "metadata": {
    "collapsed": true
   },
   "outputs": [
    {
     "ename": "AttributeError",
     "evalue": "module 'numpy.core.multiarray' has no attribute 'einsum'",
     "traceback": [
      "\u001b[0;31m---------------------------------------------------------------------------\u001b[0m",
      "\u001b[0;31mAttributeError\u001b[0m                            Traceback (most recent call last)",
      "\u001b[0;32m<ipython-input-1-5a406b41c5b3>\u001b[0m in \u001b[0;36m<module>\u001b[0;34m()\u001b[0m\n\u001b[0;32m----> 1\u001b[0;31m \u001b[0;32mimport\u001b[0m \u001b[0mnumpy\u001b[0m \u001b[0;32mas\u001b[0m \u001b[0mnp\u001b[0m\u001b[0;34m\u001b[0m\u001b[0m\n\u001b[0m\u001b[1;32m      2\u001b[0m \u001b[0;32mimport\u001b[0m \u001b[0mtensorflow\u001b[0m \u001b[0;32mas\u001b[0m \u001b[0mtf\u001b[0m\u001b[0;34m\u001b[0m\u001b[0m\n\u001b[1;32m      3\u001b[0m \u001b[0;32mimport\u001b[0m \u001b[0mcsv\u001b[0m\u001b[0;34m\u001b[0m\u001b[0m\n",
      "\u001b[0;32m/home/gpu2/anaconda3/envs/ksk/lib/python3.5/site-packages/numpy/__init__.py\u001b[0m in \u001b[0;36m<module>\u001b[0;34m()\u001b[0m\n\u001b[1;32m    144\u001b[0m         \u001b[0;32mreturn\u001b[0m \u001b[0mloader\u001b[0m\u001b[0;34m(\u001b[0m\u001b[0;34m*\u001b[0m\u001b[0mpackages\u001b[0m\u001b[0;34m,\u001b[0m \u001b[0;34m**\u001b[0m\u001b[0moptions\u001b[0m\u001b[0;34m)\u001b[0m\u001b[0;34m\u001b[0m\u001b[0m\n\u001b[1;32m    145\u001b[0m \u001b[0;34m\u001b[0m\u001b[0m\n\u001b[0;32m--> 146\u001b[0;31m     \u001b[0;32mfrom\u001b[0m \u001b[0;34m.\u001b[0m \u001b[0;32mimport\u001b[0m \u001b[0madd_newdocs\u001b[0m\u001b[0;34m\u001b[0m\u001b[0m\n\u001b[0m\u001b[1;32m    147\u001b[0m     __all__ = ['add_newdocs',\n\u001b[1;32m    148\u001b[0m                \u001b[0;34m'ModuleDeprecationWarning'\u001b[0m\u001b[0;34m,\u001b[0m\u001b[0;34m\u001b[0m\u001b[0m\n",
      "\u001b[0;32m/home/gpu2/anaconda3/envs/ksk/lib/python3.5/site-packages/numpy/add_newdocs.py\u001b[0m in \u001b[0;36m<module>\u001b[0;34m()\u001b[0m\n\u001b[1;32m     11\u001b[0m \u001b[0;32mfrom\u001b[0m \u001b[0m__future__\u001b[0m \u001b[0;32mimport\u001b[0m \u001b[0mdivision\u001b[0m\u001b[0;34m,\u001b[0m \u001b[0mabsolute_import\u001b[0m\u001b[0;34m,\u001b[0m \u001b[0mprint_function\u001b[0m\u001b[0;34m\u001b[0m\u001b[0m\n\u001b[1;32m     12\u001b[0m \u001b[0;34m\u001b[0m\u001b[0m\n\u001b[0;32m---> 13\u001b[0;31m \u001b[0;32mfrom\u001b[0m \u001b[0mnumpy\u001b[0m\u001b[0;34m.\u001b[0m\u001b[0mlib\u001b[0m \u001b[0;32mimport\u001b[0m \u001b[0madd_newdoc\u001b[0m\u001b[0;34m\u001b[0m\u001b[0m\n\u001b[0m\u001b[1;32m     14\u001b[0m \u001b[0;34m\u001b[0m\u001b[0m\n\u001b[1;32m     15\u001b[0m \u001b[0;31m###############################################################################\u001b[0m\u001b[0;34m\u001b[0m\u001b[0;34m\u001b[0m\u001b[0m\n",
      "\u001b[0;32m/home/gpu2/anaconda3/envs/ksk/lib/python3.5/site-packages/numpy/lib/__init__.py\u001b[0m in \u001b[0;36m<module>\u001b[0;34m()\u001b[0m\n\u001b[1;32m      6\u001b[0m \u001b[0;32mfrom\u001b[0m \u001b[0mnumpy\u001b[0m\u001b[0;34m.\u001b[0m\u001b[0mversion\u001b[0m \u001b[0;32mimport\u001b[0m \u001b[0mversion\u001b[0m \u001b[0;32mas\u001b[0m \u001b[0m__version__\u001b[0m\u001b[0;34m\u001b[0m\u001b[0m\n\u001b[1;32m      7\u001b[0m \u001b[0;34m\u001b[0m\u001b[0m\n\u001b[0;32m----> 8\u001b[0;31m \u001b[0;32mfrom\u001b[0m \u001b[0;34m.\u001b[0m\u001b[0mtype_check\u001b[0m \u001b[0;32mimport\u001b[0m \u001b[0;34m*\u001b[0m\u001b[0;34m\u001b[0m\u001b[0m\n\u001b[0m\u001b[1;32m      9\u001b[0m \u001b[0;32mfrom\u001b[0m \u001b[0;34m.\u001b[0m\u001b[0mindex_tricks\u001b[0m \u001b[0;32mimport\u001b[0m \u001b[0;34m*\u001b[0m\u001b[0;34m\u001b[0m\u001b[0m\n\u001b[1;32m     10\u001b[0m \u001b[0;32mfrom\u001b[0m \u001b[0;34m.\u001b[0m\u001b[0mfunction_base\u001b[0m \u001b[0;32mimport\u001b[0m \u001b[0;34m*\u001b[0m\u001b[0;34m\u001b[0m\u001b[0m\n",
      "\u001b[0;32m/home/gpu2/anaconda3/envs/ksk/lib/python3.5/site-packages/numpy/lib/type_check.py\u001b[0m in \u001b[0;36m<module>\u001b[0;34m()\u001b[0m\n\u001b[1;32m      9\u001b[0m            'common_type']\n\u001b[1;32m     10\u001b[0m \u001b[0;34m\u001b[0m\u001b[0m\n\u001b[0;32m---> 11\u001b[0;31m \u001b[0;32mimport\u001b[0m \u001b[0mnumpy\u001b[0m\u001b[0;34m.\u001b[0m\u001b[0mcore\u001b[0m\u001b[0;34m.\u001b[0m\u001b[0mnumeric\u001b[0m \u001b[0;32mas\u001b[0m \u001b[0m_nx\u001b[0m\u001b[0;34m\u001b[0m\u001b[0m\n\u001b[0m\u001b[1;32m     12\u001b[0m \u001b[0;32mfrom\u001b[0m \u001b[0mnumpy\u001b[0m\u001b[0;34m.\u001b[0m\u001b[0mcore\u001b[0m\u001b[0;34m.\u001b[0m\u001b[0mnumeric\u001b[0m \u001b[0;32mimport\u001b[0m \u001b[0masarray\u001b[0m\u001b[0;34m,\u001b[0m \u001b[0masanyarray\u001b[0m\u001b[0;34m,\u001b[0m \u001b[0marray\u001b[0m\u001b[0;34m,\u001b[0m \u001b[0misnan\u001b[0m\u001b[0;34m,\u001b[0m\u001b[0;31m \u001b[0m\u001b[0;31m\\\u001b[0m\u001b[0;34m\u001b[0m\u001b[0m\n\u001b[1;32m     13\u001b[0m                 \u001b[0mobj2sctype\u001b[0m\u001b[0;34m,\u001b[0m \u001b[0mzeros\u001b[0m\u001b[0;34m\u001b[0m\u001b[0m\n",
      "\u001b[0;32m/home/gpu2/anaconda3/envs/ksk/lib/python3.5/site-packages/numpy/core/__init__.py\u001b[0m in \u001b[0;36m<module>\u001b[0;34m()\u001b[0m\n\u001b[1;32m     23\u001b[0m \u001b[0;32mfrom\u001b[0m \u001b[0;34m.\u001b[0m \u001b[0;32mimport\u001b[0m \u001b[0mnumerictypes\u001b[0m \u001b[0;32mas\u001b[0m \u001b[0mnt\u001b[0m\u001b[0;34m\u001b[0m\u001b[0m\n\u001b[1;32m     24\u001b[0m \u001b[0mmultiarray\u001b[0m\u001b[0;34m.\u001b[0m\u001b[0mset_typeDict\u001b[0m\u001b[0;34m(\u001b[0m\u001b[0mnt\u001b[0m\u001b[0;34m.\u001b[0m\u001b[0msctypeDict\u001b[0m\u001b[0;34m)\u001b[0m\u001b[0;34m\u001b[0m\u001b[0m\n\u001b[0;32m---> 25\u001b[0;31m \u001b[0;32mfrom\u001b[0m \u001b[0;34m.\u001b[0m \u001b[0;32mimport\u001b[0m \u001b[0mnumeric\u001b[0m\u001b[0;34m\u001b[0m\u001b[0m\n\u001b[0m\u001b[1;32m     26\u001b[0m \u001b[0;32mfrom\u001b[0m \u001b[0;34m.\u001b[0m\u001b[0mnumeric\u001b[0m \u001b[0;32mimport\u001b[0m \u001b[0;34m*\u001b[0m\u001b[0;34m\u001b[0m\u001b[0m\n\u001b[1;32m     27\u001b[0m \u001b[0;32mfrom\u001b[0m \u001b[0;34m.\u001b[0m \u001b[0;32mimport\u001b[0m \u001b[0mfromnumeric\u001b[0m\u001b[0;34m\u001b[0m\u001b[0m\n",
      "\u001b[0;32m/home/gpu2/anaconda3/envs/ksk/lib/python3.5/site-packages/numpy/core/numeric.py\u001b[0m in \u001b[0;36m<module>\u001b[0;34m()\u001b[0m\n\u001b[1;32m    405\u001b[0m \u001b[0mcompare_chararrays\u001b[0m \u001b[0;34m=\u001b[0m \u001b[0mmultiarray\u001b[0m\u001b[0;34m.\u001b[0m\u001b[0mcompare_chararrays\u001b[0m\u001b[0;34m\u001b[0m\u001b[0m\n\u001b[1;32m    406\u001b[0m \u001b[0mputmask\u001b[0m \u001b[0;34m=\u001b[0m \u001b[0mmultiarray\u001b[0m\u001b[0;34m.\u001b[0m\u001b[0mputmask\u001b[0m\u001b[0;34m\u001b[0m\u001b[0m\n\u001b[0;32m--> 407\u001b[0;31m \u001b[0meinsum\u001b[0m \u001b[0;34m=\u001b[0m \u001b[0mmultiarray\u001b[0m\u001b[0;34m.\u001b[0m\u001b[0meinsum\u001b[0m\u001b[0;34m\u001b[0m\u001b[0m\n\u001b[0m\u001b[1;32m    408\u001b[0m \u001b[0mdot\u001b[0m \u001b[0;34m=\u001b[0m \u001b[0mmultiarray\u001b[0m\u001b[0;34m.\u001b[0m\u001b[0mdot\u001b[0m\u001b[0;34m\u001b[0m\u001b[0m\n\u001b[1;32m    409\u001b[0m \u001b[0minner\u001b[0m \u001b[0;34m=\u001b[0m \u001b[0mmultiarray\u001b[0m\u001b[0;34m.\u001b[0m\u001b[0minner\u001b[0m\u001b[0;34m\u001b[0m\u001b[0m\n",
      "\u001b[0;31mAttributeError\u001b[0m: module 'numpy.core.multiarray' has no attribute 'einsum'"
     ],
     "output_type": "error"
    }
   ],
   "source": [
    "import numpy as np\n",
    "import tensorflow as tf\n",
    "import csv"
   ]
  },
  {
   "cell_type": "code",
   "execution_count": 2,
   "metadata": {
    "collapsed": true
   },
   "outputs": [],
   "source": [
    "def make_label(x):\n",
    "    arr=np.zeros((7))\n",
    "    if x=='0':\n",
    "        arr[0]=1\n",
    "    elif x=='1':\n",
    "        arr[1]=1\n",
    "    elif x=='2':\n",
    "        arr[2]=1\n",
    "    elif x=='3':\n",
    "        arr[3]=1\n",
    "    elif x=='4':\n",
    "        arr[4]=1\n",
    "    elif x=='5':\n",
    "        arr[5]=1\n",
    "    else:\n",
    "        arr[6]=1\n",
    "    \n",
    "    return arr"
   ]
  },
  {
   "cell_type": "code",
   "execution_count": 3,
   "metadata": {
    "collapsed": true
   },
   "outputs": [],
   "source": [
    "def read_data(data):\n",
    "    label=[]\n",
    "    image=[]\n",
    "    type_=[]\n",
    "    # with open(data,'r') as read:\n",
    "    #     for line in read:\n",
    "    #         sam=line.strip().split(' ')\n",
    "    #         label.append(sam[0])\n",
    "    #         image.append(np.array(sam[1:-1]))\n",
    "    #         type.append(sam[-1])\n",
    "    \n",
    "    with open(data,'r') as read:\n",
    "        line=read.readlines()\n",
    "    sample=csv.reader(line)\n",
    "    for sam in sample:\n",
    "        im=[int(i) for i in sam[1].split(' ')]\n",
    "        label.append(make_label(sam[0]))\n",
    "        image.append(np.array(im))\n",
    "        type_.append(sam[-1])\n",
    "    return label, image, type_"
   ]
  },
  {
   "cell_type": "code",
   "execution_count": 4,
   "metadata": {
    "collapsed": true
   },
   "outputs": [],
   "source": [
    "label, image, type_=read_data('fer.csv')"
   ]
  },
  {
   "cell_type": "code",
   "execution_count": 5,
   "metadata": {
    "collapsed": true
   },
   "outputs": [],
   "source": [
    "train_image=[]\n",
    "train_label=[]\n",
    "test_image=[]\n",
    "test_label=[]\n",
    "\n",
    "for i in range(len(type_)):\n",
    "    if type_[i]=='Training':\n",
    "        train_image.append(image[i])\n",
    "        train_label.append(label[i])\n",
    "    elif type_[i]=='PublicTest':\n",
    "        test_image.append(image[i])\n",
    "        test_label.append(label[i])\n",
    "train_image=np.reshape(train_image,[len(train_image),2304])\n",
    "train_label=np.reshape(train_label,[len(train_label),7])\n",
    "test_image=np.reshape(test_image,[len(test_image),2304])\n",
    "test_label=np.reshape(test_label,[len(test_label),7])"
   ]
  },
  {
   "cell_type": "code",
   "execution_count": 6,
   "metadata": {
    "collapsed": true
   },
   "outputs": [],
   "source": [
    "training_epochs=100\n",
    "batch_size = 200\n",
    "\n",
    "x1=tf.placeholder(tf.float32,[None,2304])\n",
    "y=tf.placeholder(tf.float32, [None,7])\n",
    "\n",
    "x=tf.reshape(x1,[-1,48,48,1])\n",
    "keep_prob=tf.placeholder(tf.float32)\n",
    "learning_rate=tf.placeholder(tf.float32)"
   ]
  },
  {
   "cell_type": "code",
   "execution_count": 7,
   "metadata": {
    "collapsed": false
   },
   "outputs": [
    {
     "name": "stdout",
     "output_type": "stream",
     "text": [
      "Tensor(\"Reshape:0\", shape=(?, 48, 48, 1), dtype=float32)\n",
      "Tensor(\"Placeholder:0\", shape=(?, 2304), dtype=float32)\n",
      "28709\n",
      "(28709, 7)\n"
     ]
    }
   ],
   "source": [
    "print(x)\n",
    "print(x1)\n",
    "print(len(train_image))\n",
    "print(train_label.shape)"
   ]
  },
  {
   "cell_type": "code",
   "execution_count": 8,
   "metadata": {
    "collapsed": false
   },
   "outputs": [],
   "source": [
    "w1_1=tf.Variable(tf.random_normal([3, 3, 1, 32], stddev=0.01))\n",
    "w1_2=tf.Variable(tf.random_normal([3, 3, 32, 64], stddev=0.01))\n",
    "\n",
    "w2_1=tf.Variable(tf.random_normal([3, 3, 64, 64], stddev=0.01))\n",
    "w2_2=tf.Variable(tf.random_normal([3, 3, 64, 64], stddev=0.01))\n",
    "w2_3=tf.Variable(tf.random_normal([3, 3, 64, 128], stddev=0.01))\n",
    "\n",
    "w3_1=tf.Variable(tf.random_normal([3, 3, 128, 128], stddev=0.01))\n",
    "w3_2=tf.Variable(tf.random_normal([3, 3, 128, 256], stddev=0.01))\n",
    "w3_3=tf.Variable(tf.random_normal([3, 3, 256, 256], stddev=0.01))\n",
    "\n",
    "\n",
    "w4_1=tf.Variable(tf.random_normal([3, 3, 256, 512], stddev=0.01))\n",
    "w4_2=tf.Variable(tf.random_normal([3, 3, 512, 512], stddev=0.01))\n",
    "w4_3=tf.Variable(tf.random_normal([3, 3, 512, 512], stddev=0.01))\n",
    "\n",
    "\n",
    "w5_1=tf.Variable(tf.random_normal([3, 3, 512, 512], stddev=0.01))\n",
    "w5_2=tf.Variable(tf.random_normal([3, 3, 512, 512], stddev=0.01))\n",
    "w5_3=tf.Variable(tf.random_normal([3, 3, 512, 512], stddev=0.01))\n",
    "\n",
    "\n",
    "b1_1=tf.Variable(tf.random_normal([32]))\n",
    "b1_2=tf.Variable(tf.random_normal([64])) \n",
    "\n",
    "b2_1=tf.Variable(tf.random_normal([64])) \n",
    "b2_2=tf.Variable(tf.random_normal([64])) \n",
    "b2_3=tf.Variable(tf.random_normal([128])) \n",
    "\n",
    "b3_1=tf.Variable(tf.random_normal([128])) \n",
    "b3_2=tf.Variable(tf.random_normal([256]))\n",
    "b3_3=tf.Variable(tf.random_normal([256]))\n",
    "\n",
    "\n",
    "b4_1=tf.Variable(tf.random_normal([512]))\n",
    "b4_2=tf.Variable(tf.random_normal([512]))\n",
    "b4_3=tf.Variable(tf.random_normal([512]))\n",
    "\n",
    "\n",
    "b5_1=tf.Variable(tf.random_normal([512]))\n",
    "b5_2=tf.Variable(tf.random_normal([512]))\n",
    "b5_3=tf.Variable(tf.random_normal([512]))\n",
    "\n",
    "\n",
    "w6=tf.Variable(tf.random_normal([3*3*512,4096], stddev=0.01))\n",
    "b6=tf.Variable(tf.random_normal([4096]))   \n",
    "\n",
    "w7=tf.Variable(tf.random_normal([4096,2048], stddev=0.01))\n",
    "b7=tf.Variable(tf.random_normal([2048]))  \n",
    "\n",
    "w8=tf.Variable(tf.random_normal([2048,512], stddev=0.01))\n",
    "b8=tf.Variable(tf.random_normal([512]))\n",
    "\n",
    "w9=tf.Variable(tf.random_normal([512,7], stddev=0.01))\n",
    "b9=tf.Variable(tf.random_normal([7]))\n",
    "\n",
    "# l1_1=tf.nn.relu(tf.nn.conv2d(x,w1_1, strides=[1,1,1,1], padding= 'SAME'))#(?,48,48,32)\n",
    "# l1_2=tf.nn.relu(tf.nn.conv2d(l1_1,w1_2, strides=[1,1,1,1], padding= 'SAME'))#(?,48,48,64)\n",
    "# l1=tf.nn.max_pool(l1_2, ksize=[1,2,2,1], strides=[1,2,2,1], padding='SAME')#(?,24,24,64)\n",
    "# l1=tf.nn.dropout(l1,keep_prob=keep_prob)\n",
    "\n",
    "\n",
    "# l2_1=tf.nn.relu(tf.nn.conv2d(l1, w2_1, strides=[1,1,1,1], padding='SAME'))#(?,24,24,64)\n",
    "# l2_2=tf.nn.relu(tf.nn.conv2d(l2_1,w2_2, strides=[1,1,1,1], padding= 'SAME'))#(?,24,24,64)\n",
    "# l2_3=tf.nn.relu(tf.nn.conv2d(l2_2,w2_3, strides=[1,1,1,1], padding= 'SAME'))#(?,24,24,128)\n",
    "# l2=tf.nn.max_pool(l2_3, ksize=[1,2,2,1], strides=[1,2,2,1], padding='SAME')#(?,12,12,128)\n",
    "# l2=tf.nn.dropout(l2,keep_prob=keep_prob)\n",
    "\n",
    "# l3_1=tf.nn.relu(tf.nn.conv2d(l2, w3_1, strides=[1,1,1,1], padding='SAME'))#(?,12,12,128)\n",
    "# l3_2=tf.nn.relu(tf.nn.conv2d(l3_1,w3_2, strides=[1,1,1,1], padding= 'SAME'))#(?,12,12,256)\n",
    "# l3_3=tf.nn.relu(tf.nn.conv2d(l3_2, w3_3, strides=[1,1,1,1], padding='SAME'))#(?,12,12,256)\n",
    "# l3=tf.nn.max_pool(l3_3, ksize=[1,2,2,1], strides=[1,2,2,1], padding='SAME')#(?6,6,256)\n",
    "# l3=tf.nn.dropout(l3,keep_prob=keep_prob)\n",
    "\n",
    "# l4_1=tf.nn.relu(tf.nn.conv2d(l3, w4_1, strides=[1,1,1,1], padding='SAME'))#(?,6,6,512)\n",
    "# l4_2=tf.nn.relu(tf.nn.conv2d(l4_1,w4_2, strides=[1,1,1,1], padding= 'SAME'))#(?,6,6,512)\n",
    "# l4_3=tf.nn.relu(tf.nn.conv2d(l4_2, w4_3, strides=[1,1,1,1], padding='SAME'))#(?,6,6,512)\n",
    "# l4=tf.nn.max_pool(l4_3, ksize=[1,2,2,1], strides=[1,2,2,1], padding='SAME')#(?,3,3,512)\n",
    "# l4=tf.nn.dropout(l4,keep_prob=keep_prob)\n",
    "\n",
    "\n",
    "# l5_1=tf.nn.relu(tf.nn.conv2d(l4, w5_1, strides=[1,1,1,1], padding='SAME'))#(?,3,3,512)\n",
    "# l5_2=tf.nn.relu(tf.nn.conv2d(l5_1,w5_2, strides=[1,1,1,1], padding= 'SAME'))#(?,3,3,512)\n",
    "# l5_3=tf.nn.relu(tf.nn.conv2d(l5_2, w5_3, strides=[1,1,1,1], padding='SAME'))#(?,3,3,512)\n",
    "# l5_3=tf.nn.dropout(l5_3,keep_prob=keep_prob)\n",
    "# l5_flat=tf.reshape(l5_3,[-1,3*3*512])\n",
    "\n",
    "l1_1=tf.nn.relu(tf.nn.conv2d(x,w1_1, strides=[1,1,1,1], padding= 'SAME')+b1_1)#(?,48,48,32)\n",
    "l1_2=tf.nn.relu(tf.nn.conv2d(l1_1,w1_2, strides=[1,1,1,1], padding= 'SAME')+b1_2)#(?,48,48,64)\n",
    "l1=tf.nn.max_pool(l1_2, ksize=[1,2,2,1], strides=[1,2,2,1], padding='SAME')#(?,24,24,64)\n",
    "l1=tf.nn.dropout(l1,keep_prob=keep_prob)\n",
    "\n",
    "\n",
    "l2_1=tf.nn.relu(tf.nn.conv2d(l1, w2_1, strides=[1,1,1,1], padding='SAME')+b2_1)#(?,24,24,64)\n",
    "l2_2=tf.nn.relu(tf.nn.conv2d(l2_1,w2_2, strides=[1,1,1,1], padding= 'SAME')+b2_2)#(?,24,24,64)\n",
    "l2_3=tf.nn.relu(tf.nn.conv2d(l2_2,w2_3, strides=[1,1,1,1], padding= 'SAME')+b2_3)#(?,24,24,128)\n",
    "l2=tf.nn.max_pool(l2_3, ksize=[1,2,2,1], strides=[1,2,2,1], padding='SAME')#(?,12,12,128)\n",
    "l2=tf.nn.dropout(l2,keep_prob=keep_prob)\n",
    "\n",
    "l3_1=tf.nn.relu(tf.nn.conv2d(l2, w3_1, strides=[1,1,1,1], padding='SAME')+b3_1)#(?,12,12,128)\n",
    "l3_2=tf.nn.relu(tf.nn.conv2d(l3_1,w3_2, strides=[1,1,1,1], padding= 'SAME')+b3_2)#(?,12,12,256)\n",
    "l3_3=tf.nn.relu(tf.nn.conv2d(l3_2, w3_3, strides=[1,1,1,1], padding='SAME')+b3_3)#(?,12,12,256)\n",
    "l3=tf.nn.max_pool(l3_3, ksize=[1,2,2,1], strides=[1,2,2,1], padding='SAME')#(?6,6,256)\n",
    "l3=tf.nn.dropout(l3,keep_prob=keep_prob)\n",
    "\n",
    "l4_1=tf.nn.relu(tf.nn.conv2d(l3, w4_1, strides=[1,1,1,1], padding='SAME')+b4_1)#(?,6,6,512)\n",
    "l4_2=tf.nn.relu(tf.nn.conv2d(l4_1,w4_2, strides=[1,1,1,1], padding= 'SAME')+b4_2)#(?,6,6,512)\n",
    "l4_3=tf.nn.relu(tf.nn.conv2d(l4_2, w4_3, strides=[1,1,1,1], padding='SAME')+b4_3)#(?,6,6,512)\n",
    "l4=tf.nn.max_pool(l4_3, ksize=[1,2,2,1], strides=[1,2,2,1], padding='SAME')#(?,3,3,512)\n",
    "l4=tf.nn.dropout(l4,keep_prob=keep_prob)\n",
    "\n",
    "\n",
    "l5_1=tf.nn.relu(tf.nn.conv2d(l4, w5_1, strides=[1,1,1,1], padding='SAME')+b5_1)#(?,3,3,512)\n",
    "l5_2=tf.nn.relu(tf.nn.conv2d(l5_1,w5_2, strides=[1,1,1,1], padding= 'SAME')+b5_2)#(?,3,3,512)\n",
    "l5_3=tf.nn.relu(tf.nn.conv2d(l5_2, w5_3, strides=[1,1,1,1], padding='SAME')+b5_3)#(?,3,3,512)\n",
    "l5_3=tf.nn.dropout(l5_3,keep_prob=keep_prob)\n",
    "l5_flat=tf.reshape(l5_3,[-1,3*3*512])\n",
    "\n",
    "l6=tf.nn.relu(tf.matmul(l5_flat, w6)+b6)\n",
    "l6=tf.nn.dropout(l6,keep_prob=keep_prob)\n",
    "\n",
    "l7=tf.nn.relu(tf.matmul(l6, w7)+b7)\n",
    "l7=tf.nn.dropout(l7,keep_prob=keep_prob)\n",
    "\n",
    "l8=tf.nn.relu(tf.matmul(l7, w8)+b8)\n",
    "l8=tf.nn.dropout(l8,keep_prob=keep_prob)\n",
    "\n",
    "output=tf.nn.softmax(tf.matmul(l8,w9)+b9)\n",
    "# output=tf.matmul(l8,w9)+b9\n",
    "# out=tf.nn.softmax(output)"
   ]
  },
  {
   "cell_type": "code",
   "execution_count": 9,
   "metadata": {},
   "outputs": [
    {
     "name": "stdout",
     "output_type": "stream",
     "text": [
      "Tensor(\"dropout/mul:0\", shape=(?, 24, 24, 64), dtype=float32)\n",
      "Tensor(\"dropout_1/mul:0\", shape=(?, 12, 12, 128), dtype=float32)\n",
      "Tensor(\"dropout_2/mul:0\", shape=(?, 6, 6, 256), dtype=float32)\n",
      "Tensor(\"dropout_3/mul:0\", shape=(?, 3, 3, 512), dtype=float32)\n",
      "Tensor(\"dropout_5/mul:0\", shape=(?, 4096), dtype=float32)\n",
      "Tensor(\"dropout_6/mul:0\", shape=(?, 2048), dtype=float32)\n",
      "Tensor(\"dropout_7/mul:0\", shape=(?, 512), dtype=float32)\n",
      "Tensor(\"Softmax:0\", shape=(?, 7), dtype=float32)\n"
     ]
    }
   ],
   "source": [
    "print(l1)\n",
    "print(l2)\n",
    "print(l3)\n",
    "print(l4)\n",
    "print(l6)\n",
    "print(l7)\n",
    "print(l8)\n",
    "print(output)"
   ]
  },
  {
   "cell_type": "code",
   "execution_count": 10,
   "metadata": {},
   "outputs": [],
   "source": [
    "# new_y=tf.Variable(tf.zeros([batch_size,7]))\n",
    "# for i in range(batch_size):\n",
    "#     j=np.argmax(output[i])\n",
    "#     if y[i,j]==0:\n",
    "#         new_y[i,j]=1"
   ]
  },
  {
   "cell_type": "code",
   "execution_count": 10,
   "metadata": {
    "collapsed": false
   },
   "outputs": [],
   "source": [
    "cross_entropy=tf.reduce_mean(y*tf.tan(-(np.pi*output/2-np.pi/2)))\n",
    "new_y=1-y\n",
    "cost=tf.reduce_mean(new_y*tf.tan(np.pi*output/2))\n",
    "\n",
    "#cross_entropy=tf.reduce_mean(tf.nn.softmax_cross_entropy_with_logits(logits=output,labels=y))\n",
    "optimizer=tf.train.AdagradOptimizer(learning_rate=learning_rate).minimize(cross_entropy+cost)\n",
    "correct_prediction = tf.equal(tf.argmax(y,1), tf.argmax(output,1))\n",
    "accuracy = tf.reduce_mean(tf.cast(correct_prediction, tf.float32))"
   ]
  },
  {
   "cell_type": "code",
   "execution_count": 11,
   "metadata": {
    "collapsed": false
   },
   "outputs": [
    {
     "name": "stdout",
     "output_type": "stream",
     "text": [
      "Learning start\n",
      "epoch :  0 cost :  438.894 accuracy :  0.183486\n",
      "epoch :  1 cost :  431.707 accuracy :  0.220183\n",
      "epoch :  2 cost :  430.971 accuracy :  0.238532\n",
      "epoch :  3 cost :  432.231 accuracy :  0.201835\n",
      "epoch :  4 cost :  438.979 accuracy :  0.183486\n",
      "epoch :  5 cost :  433.375 accuracy :  0.220183\n",
      "epoch :  6 cost :  439.754 accuracy :  0.220183\n",
      "epoch :  7 cost :  440.216 accuracy :  0.211009\n",
      "epoch :  8 cost :  437.588 accuracy :  0.229358\n",
      "epoch :  9 cost :  432.783 accuracy :  0.220183\n",
      "epoch :  10 cost :  433.293 accuracy :  0.256881\n",
      "epoch :  11 cost :  431.97 accuracy :  0.229358\n",
      "epoch :  12 cost :  430.878 accuracy :  0.238532\n",
      "epoch :  13 cost :  432.887 accuracy :  0.229358\n",
      "epoch :  14 cost :  433.573 accuracy :  0.220183\n",
      "epoch :  15 cost :  436.694 accuracy :  0.220183\n",
      "epoch :  16 cost :  430.714 accuracy :  0.229358\n",
      "epoch :  17 cost :  433.813 accuracy :  0.229358\n",
      "epoch :  18 cost :  433.424 accuracy :  0.238532\n",
      "epoch :  19 cost :  433.756 accuracy :  0.220183\n",
      "epoch :  20 cost :  436.98 accuracy :  0.220183\n",
      "epoch :  21 cost :  432.661 accuracy :  0.238532\n",
      "epoch :  22 cost :  432.895 accuracy :  0.229358\n",
      "epoch :  23 cost :  433.867 accuracy :  0.220183\n",
      "epoch :  24 cost :  436.877 accuracy :  0.238532\n",
      "epoch :  25 cost :  436.064 accuracy :  0.238532\n",
      "epoch :  26 cost :  434.285 accuracy :  0.229358\n",
      "epoch :  27 cost :  433.05 accuracy :  0.220183\n",
      "epoch :  28 cost :  432.868 accuracy :  0.229358\n",
      "epoch :  29 cost :  435.529 accuracy :  0.220183\n",
      "epoch :  30 cost :  430.121 accuracy :  0.229358\n",
      "epoch :  31 cost :  427.719 accuracy :  0.229358\n",
      "epoch :  32 cost :  432.653 accuracy :  0.229358\n",
      "epoch :  33 cost :  433.327 accuracy :  0.220183\n",
      "epoch :  34 cost :  433.842 accuracy :  0.229358\n",
      "epoch :  35 cost :  429.154 accuracy :  0.229358\n",
      "epoch :  36 cost :  433.855 accuracy :  0.229358\n",
      "epoch :  37 cost :  432.121 accuracy :  0.220183\n",
      "epoch :  38 cost :  432.075 accuracy :  0.229358\n",
      "epoch :  39 cost :  428.483 accuracy :  0.238532\n",
      "epoch :  40 cost :  437.995 accuracy :  0.229358\n",
      "epoch :  41 cost :  432.394 accuracy :  0.211009\n",
      "epoch :  42 cost :  432.491 accuracy :  0.229358\n",
      "epoch :  43 cost :  438.73 accuracy :  0.220183\n",
      "epoch :  44 cost :  438.526 accuracy :  0.229358\n",
      "epoch :  45 cost :  431.05 accuracy :  0.238532\n",
      "epoch :  46 cost :  434.074 accuracy :  0.229358\n",
      "epoch :  47 cost :  433.057 accuracy :  0.220183\n",
      "epoch :  48 cost :  433.102 accuracy :  0.229358\n",
      "epoch :  49 cost :  436.613 accuracy :  0.229358\n",
      "epoch :  50 cost :  433.885 accuracy :  0.220183\n",
      "epoch :  51 cost :  437.041 accuracy :  0.229358\n",
      "epoch :  52 cost :  432.84 accuracy :  0.238532\n",
      "epoch :  53 cost :  431.13 accuracy :  0.229358\n",
      "epoch :  54 cost :  430.963 accuracy :  0.229358\n",
      "epoch :  55 cost :  433.609 accuracy :  0.229358\n",
      "epoch :  56 cost :  436.444 accuracy :  0.220183\n",
      "epoch :  57 cost :  432.385 accuracy :  0.220183\n",
      "epoch :  58 cost :  435.633 accuracy :  0.220183\n",
      "epoch :  59 cost :  432.671 accuracy :  0.229358\n",
      "epoch :  60 cost :  435.695 accuracy :  0.229358\n",
      "epoch :  61 cost :  432.72 accuracy :  0.229358\n",
      "epoch :  62 cost :  432.552 accuracy :  0.229358\n",
      "epoch :  63 cost :  433.253 accuracy :  0.220183\n",
      "epoch :  64 cost :  432.189 accuracy :  0.238532\n",
      "epoch :  65 cost :  435.966 accuracy :  0.220183\n",
      "epoch :  66 cost :  431.255 accuracy :  0.229358\n",
      "epoch :  67 cost :  436.149 accuracy :  0.229358\n",
      "epoch :  68 cost :  432.44 accuracy :  0.229358\n",
      "epoch :  69 cost :  431.859 accuracy :  0.229358\n",
      "epoch :  70 cost :  434.205 accuracy :  0.229358\n",
      "epoch :  71 cost :  437.323 accuracy :  0.201835\n",
      "epoch :  72 cost :  433.756 accuracy :  0.229358\n",
      "epoch :  73 cost :  435.91 accuracy :  0.220183\n",
      "epoch :  74 cost :  434.3 accuracy :  0.229358\n",
      "epoch :  75 cost :  430.804 accuracy :  0.229358\n",
      "epoch :  76 cost :  432.074 accuracy :  0.220183\n",
      "epoch :  77 cost :  432.958 accuracy :  0.229358\n",
      "epoch :  78 cost :  435.912 accuracy :  0.238532\n",
      "epoch :  79 cost :  437.911 accuracy :  0.229358\n",
      "epoch :  80 cost :  431.779 accuracy :  0.229358\n",
      "epoch :  81 cost :  433.15 accuracy :  0.229358\n",
      "epoch :  82 cost :  438.243 accuracy :  0.220183\n",
      "epoch :  83 cost :  437.066 accuracy :  0.229358\n",
      "epoch :  84 cost :  435.345 accuracy :  0.229358\n",
      "epoch :  85 cost :  436.84 accuracy :  0.229358\n",
      "epoch :  86 cost :  436.315 accuracy :  0.220183\n",
      "epoch :  87 cost :  436.389 accuracy :  0.229358\n",
      "epoch :  88 cost :  437.072 accuracy :  0.229358\n",
      "epoch :  89 cost :  433.762 accuracy :  0.229358\n",
      "epoch :  90 cost :  432.161 accuracy :  0.229358\n",
      "epoch :  91 cost :  434.625 accuracy :  0.229358\n",
      "epoch :  92 cost :  435.112 accuracy :  0.220183\n",
      "epoch :  93 cost :  432.589 accuracy :  0.229358\n",
      "epoch :  94 cost :  432.284 accuracy :  0.229358\n",
      "epoch :  95 cost :  435.003 accuracy :  0.229358\n",
      "epoch :  96 cost :  439.946 accuracy :  0.238532\n",
      "epoch :  97 cost :  435.356 accuracy :  0.229358\n",
      "epoch :  98 cost :  434.625 accuracy :  0.229358\n",
      "epoch :  99 cost :  428.477 accuracy :  0.229358\n"
     ]
    }
   ],
   "source": [
    "print(\"Learning start\")\n",
    "sess=tf.Session()\n",
    "sess.run(tf.global_variables_initializer())\n",
    "\n",
    "\n",
    "for epoch in range(training_epochs):\n",
    "    a=0\n",
    "    total_batch = int(len(train_image)/batch_size)+1\n",
    "\n",
    "    for i in range(total_batch):\n",
    "        batch_xs=train_image[a:a+batch_size]\n",
    "        batch_ys=train_label[a:a+batch_size]\n",
    "        feed_dict={x1:batch_xs, y:batch_ys,keep_prob:0.8,learning_rate:0.001}\n",
    "        acc,c1,c2,_=sess.run([accuracy,cost,cross_entropy,optimizer], feed_dict=feed_dict)\n",
    "        a=a+batch_size\n",
    "\n",
    "    print(\"epoch : \",epoch,\"cost : \", c1+c2,\"accuracy : \", acc)"
   ]
  },
  {
   "cell_type": "code",
   "execution_count": 12,
   "metadata": {
    "collapsed": false
   },
   "outputs": [
    {
     "ename": "ResourceExhaustedError",
     "evalue": "OOM when allocating tensor with shape[3589,64,48,48]\n\t [[Node: Conv2D_1 = Conv2D[T=DT_FLOAT, data_format=\"NHWC\", padding=\"SAME\", strides=[1, 1, 1, 1], use_cudnn_on_gpu=true, _device=\"/job:localhost/replica:0/task:0/gpu:0\"](Relu, Variable_1/read)]]\n\t [[Node: Mean_2/_31 = _Recv[client_terminated=false, recv_device=\"/job:localhost/replica:0/task:0/cpu:0\", send_device=\"/job:localhost/replica:0/task:0/gpu:0\", send_device_incarnation=1, tensor_name=\"edge_193_Mean_2\", tensor_type=DT_FLOAT, _device=\"/job:localhost/replica:0/task:0/cpu:0\"]()]]\n\nCaused by op 'Conv2D_1', defined at:\n  File \"c:\\users\\sh\\anaconda3\\lib\\runpy.py\", line 184, in _run_module_as_main\n    \"__main__\", mod_spec)\n  File \"c:\\users\\sh\\anaconda3\\lib\\runpy.py\", line 85, in _run_code\n    exec(code, run_globals)\n  File \"c:\\users\\sh\\anaconda3\\lib\\site-packages\\ipykernel\\__main__.py\", line 3, in <module>\n    app.launch_new_instance()\n  File \"c:\\users\\sh\\anaconda3\\lib\\site-packages\\traitlets\\config\\application.py\", line 653, in launch_instance\n    app.start()\n  File \"c:\\users\\sh\\anaconda3\\lib\\site-packages\\ipykernel\\kernelapp.py\", line 474, in start\n    ioloop.IOLoop.instance().start()\n  File \"c:\\users\\sh\\anaconda3\\lib\\site-packages\\zmq\\eventloop\\ioloop.py\", line 162, in start\n    super(ZMQIOLoop, self).start()\n  File \"c:\\users\\sh\\anaconda3\\lib\\site-packages\\tornado\\ioloop.py\", line 887, in start\n    handler_func(fd_obj, events)\n  File \"c:\\users\\sh\\anaconda3\\lib\\site-packages\\tornado\\stack_context.py\", line 275, in null_wrapper\n    return fn(*args, **kwargs)\n  File \"c:\\users\\sh\\anaconda3\\lib\\site-packages\\zmq\\eventloop\\zmqstream.py\", line 440, in _handle_events\n    self._handle_recv()\n  File \"c:\\users\\sh\\anaconda3\\lib\\site-packages\\zmq\\eventloop\\zmqstream.py\", line 472, in _handle_recv\n    self._run_callback(callback, msg)\n  File \"c:\\users\\sh\\anaconda3\\lib\\site-packages\\zmq\\eventloop\\zmqstream.py\", line 414, in _run_callback\n    callback(*args, **kwargs)\n  File \"c:\\users\\sh\\anaconda3\\lib\\site-packages\\tornado\\stack_context.py\", line 275, in null_wrapper\n    return fn(*args, **kwargs)\n  File \"c:\\users\\sh\\anaconda3\\lib\\site-packages\\ipykernel\\kernelbase.py\", line 276, in dispatcher\n    return self.dispatch_shell(stream, msg)\n  File \"c:\\users\\sh\\anaconda3\\lib\\site-packages\\ipykernel\\kernelbase.py\", line 228, in dispatch_shell\n    handler(stream, idents, msg)\n  File \"c:\\users\\sh\\anaconda3\\lib\\site-packages\\ipykernel\\kernelbase.py\", line 390, in execute_request\n    user_expressions, allow_stdin)\n  File \"c:\\users\\sh\\anaconda3\\lib\\site-packages\\ipykernel\\ipkernel.py\", line 196, in do_execute\n    res = shell.run_cell(code, store_history=store_history, silent=silent)\n  File \"c:\\users\\sh\\anaconda3\\lib\\site-packages\\ipykernel\\zmqshell.py\", line 501, in run_cell\n    return super(ZMQInteractiveShell, self).run_cell(*args, **kwargs)\n  File \"c:\\users\\sh\\anaconda3\\lib\\site-packages\\IPython\\core\\interactiveshell.py\", line 2717, in run_cell\n    interactivity=interactivity, compiler=compiler, result=result)\n  File \"c:\\users\\sh\\anaconda3\\lib\\site-packages\\IPython\\core\\interactiveshell.py\", line 2821, in run_ast_nodes\n    if self.run_code(code, result):\n  File \"c:\\users\\sh\\anaconda3\\lib\\site-packages\\IPython\\core\\interactiveshell.py\", line 2881, in run_code\n    exec(code_obj, self.user_global_ns, self.user_ns)\n  File \"<ipython-input-8-100967fbe6bd>\", line 89, in <module>\n    l1_2=tf.nn.relu(tf.nn.conv2d(l1_1,w1_2, strides=[1,1,1,1], padding= 'SAME')+b1_2)#(?,48,48,64)\n  File \"c:\\users\\sh\\anaconda3\\lib\\site-packages\\tensorflow\\python\\ops\\gen_nn_ops.py\", line 396, in conv2d\n    data_format=data_format, name=name)\n  File \"c:\\users\\sh\\anaconda3\\lib\\site-packages\\tensorflow\\python\\framework\\op_def_library.py\", line 759, in apply_op\n    op_def=op_def)\n  File \"c:\\users\\sh\\anaconda3\\lib\\site-packages\\tensorflow\\python\\framework\\ops.py\", line 2240, in create_op\n    original_op=self._default_original_op, op_def=op_def)\n  File \"c:\\users\\sh\\anaconda3\\lib\\site-packages\\tensorflow\\python\\framework\\ops.py\", line 1128, in __init__\n    self._traceback = _extract_stack()\n\nResourceExhaustedError (see above for traceback): OOM when allocating tensor with shape[3589,64,48,48]\n\t [[Node: Conv2D_1 = Conv2D[T=DT_FLOAT, data_format=\"NHWC\", padding=\"SAME\", strides=[1, 1, 1, 1], use_cudnn_on_gpu=true, _device=\"/job:localhost/replica:0/task:0/gpu:0\"](Relu, Variable_1/read)]]\n\t [[Node: Mean_2/_31 = _Recv[client_terminated=false, recv_device=\"/job:localhost/replica:0/task:0/cpu:0\", send_device=\"/job:localhost/replica:0/task:0/gpu:0\", send_device_incarnation=1, tensor_name=\"edge_193_Mean_2\", tensor_type=DT_FLOAT, _device=\"/job:localhost/replica:0/task:0/cpu:0\"]()]]\n",
     "traceback": [
      "\u001b[0;31m---------------------------------------------------------------------------\u001b[0m",
      "\u001b[0;31mResourceExhaustedError\u001b[0m                    Traceback (most recent call last)",
      "\u001b[0;32mc:\\users\\sh\\anaconda3\\lib\\site-packages\\tensorflow\\python\\client\\session.py\u001b[0m in \u001b[0;36m_do_call\u001b[0;34m(self, fn, *args)\u001b[0m\n\u001b[1;32m   1020\u001b[0m     \u001b[1;32mtry\u001b[0m\u001b[1;33m:\u001b[0m\u001b[1;33m\u001b[0m\u001b[0m\n\u001b[0;32m-> 1021\u001b[0;31m       \u001b[1;32mreturn\u001b[0m \u001b[0mfn\u001b[0m\u001b[1;33m(\u001b[0m\u001b[1;33m*\u001b[0m\u001b[0margs\u001b[0m\u001b[1;33m)\u001b[0m\u001b[1;33m\u001b[0m\u001b[0m\n\u001b[0m\u001b[1;32m   1022\u001b[0m     \u001b[1;32mexcept\u001b[0m \u001b[0merrors\u001b[0m\u001b[1;33m.\u001b[0m\u001b[0mOpError\u001b[0m \u001b[1;32mas\u001b[0m \u001b[0me\u001b[0m\u001b[1;33m:\u001b[0m\u001b[1;33m\u001b[0m\u001b[0m\n",
      "\u001b[0;32mc:\\users\\sh\\anaconda3\\lib\\site-packages\\tensorflow\\python\\client\\session.py\u001b[0m in \u001b[0;36m_run_fn\u001b[0;34m(session, feed_dict, fetch_list, target_list, options, run_metadata)\u001b[0m\n\u001b[1;32m   1002\u001b[0m                                  \u001b[0mfeed_dict\u001b[0m\u001b[1;33m,\u001b[0m \u001b[0mfetch_list\u001b[0m\u001b[1;33m,\u001b[0m \u001b[0mtarget_list\u001b[0m\u001b[1;33m,\u001b[0m\u001b[1;33m\u001b[0m\u001b[0m\n\u001b[0;32m-> 1003\u001b[0;31m                                  status, run_metadata)\n\u001b[0m\u001b[1;32m   1004\u001b[0m \u001b[1;33m\u001b[0m\u001b[0m\n",
      "\u001b[0;32mc:\\users\\sh\\anaconda3\\lib\\contextlib.py\u001b[0m in \u001b[0;36m__exit__\u001b[0;34m(self, type, value, traceback)\u001b[0m\n\u001b[1;32m     65\u001b[0m             \u001b[1;32mtry\u001b[0m\u001b[1;33m:\u001b[0m\u001b[1;33m\u001b[0m\u001b[0m\n\u001b[0;32m---> 66\u001b[0;31m                 \u001b[0mnext\u001b[0m\u001b[1;33m(\u001b[0m\u001b[0mself\u001b[0m\u001b[1;33m.\u001b[0m\u001b[0mgen\u001b[0m\u001b[1;33m)\u001b[0m\u001b[1;33m\u001b[0m\u001b[0m\n\u001b[0m\u001b[1;32m     67\u001b[0m             \u001b[1;32mexcept\u001b[0m \u001b[0mStopIteration\u001b[0m\u001b[1;33m:\u001b[0m\u001b[1;33m\u001b[0m\u001b[0m\n",
      "\u001b[0;32mc:\\users\\sh\\anaconda3\\lib\\site-packages\\tensorflow\\python\\framework\\errors_impl.py\u001b[0m in \u001b[0;36mraise_exception_on_not_ok_status\u001b[0;34m()\u001b[0m\n\u001b[1;32m    468\u001b[0m           \u001b[0mcompat\u001b[0m\u001b[1;33m.\u001b[0m\u001b[0mas_text\u001b[0m\u001b[1;33m(\u001b[0m\u001b[0mpywrap_tensorflow\u001b[0m\u001b[1;33m.\u001b[0m\u001b[0mTF_Message\u001b[0m\u001b[1;33m(\u001b[0m\u001b[0mstatus\u001b[0m\u001b[1;33m)\u001b[0m\u001b[1;33m)\u001b[0m\u001b[1;33m,\u001b[0m\u001b[1;33m\u001b[0m\u001b[0m\n\u001b[0;32m--> 469\u001b[0;31m           pywrap_tensorflow.TF_GetCode(status))\n\u001b[0m\u001b[1;32m    470\u001b[0m   \u001b[1;32mfinally\u001b[0m\u001b[1;33m:\u001b[0m\u001b[1;33m\u001b[0m\u001b[0m\n",
      "\u001b[0;31mResourceExhaustedError\u001b[0m: OOM when allocating tensor with shape[3589,64,48,48]\n\t [[Node: Conv2D_1 = Conv2D[T=DT_FLOAT, data_format=\"NHWC\", padding=\"SAME\", strides=[1, 1, 1, 1], use_cudnn_on_gpu=true, _device=\"/job:localhost/replica:0/task:0/gpu:0\"](Relu, Variable_1/read)]]\n\t [[Node: Mean_2/_31 = _Recv[client_terminated=false, recv_device=\"/job:localhost/replica:0/task:0/cpu:0\", send_device=\"/job:localhost/replica:0/task:0/gpu:0\", send_device_incarnation=1, tensor_name=\"edge_193_Mean_2\", tensor_type=DT_FLOAT, _device=\"/job:localhost/replica:0/task:0/cpu:0\"]()]]",
      "\nDuring handling of the above exception, another exception occurred:\n",
      "\u001b[0;31mResourceExhaustedError\u001b[0m                    Traceback (most recent call last)",
      "\u001b[0;32m<ipython-input-12-ad2638ccd6d4>\u001b[0m in \u001b[0;36m<module>\u001b[0;34m()\u001b[0m\n\u001b[1;32m      2\u001b[0m \u001b[0macc_\u001b[0m\u001b[1;33m=\u001b[0m\u001b[0mtf\u001b[0m\u001b[1;33m.\u001b[0m\u001b[0mreduce_mean\u001b[0m\u001b[1;33m(\u001b[0m\u001b[0mtf\u001b[0m\u001b[1;33m.\u001b[0m\u001b[0mcast\u001b[0m\u001b[1;33m(\u001b[0m\u001b[0mcor_pre\u001b[0m\u001b[1;33m,\u001b[0m\u001b[0mtf\u001b[0m\u001b[1;33m.\u001b[0m\u001b[0mfloat32\u001b[0m\u001b[1;33m)\u001b[0m\u001b[1;33m)\u001b[0m\u001b[1;33m\u001b[0m\u001b[0m\n\u001b[1;32m      3\u001b[0m \u001b[0mfeed_dict\u001b[0m\u001b[1;33m=\u001b[0m\u001b[1;33m{\u001b[0m\u001b[0mx1\u001b[0m\u001b[1;33m:\u001b[0m\u001b[0mtest_image\u001b[0m\u001b[1;33m,\u001b[0m \u001b[0my\u001b[0m\u001b[1;33m:\u001b[0m\u001b[0mtest_label\u001b[0m\u001b[1;33m,\u001b[0m\u001b[0mkeep_prob\u001b[0m\u001b[1;33m:\u001b[0m\u001b[1;36m1.0\u001b[0m\u001b[1;33m,\u001b[0m\u001b[0mlearning_rate\u001b[0m\u001b[1;33m:\u001b[0m\u001b[1;36m0.0001\u001b[0m\u001b[1;33m}\u001b[0m\u001b[1;33m\u001b[0m\u001b[0m\n\u001b[0;32m----> 4\u001b[0;31m \u001b[0mtest_acc\u001b[0m\u001b[1;33m=\u001b[0m\u001b[0msess\u001b[0m\u001b[1;33m.\u001b[0m\u001b[0mrun\u001b[0m\u001b[1;33m(\u001b[0m\u001b[0macc_\u001b[0m\u001b[1;33m,\u001b[0m\u001b[0mfeed_dict\u001b[0m\u001b[1;33m=\u001b[0m\u001b[0mfeed_dict\u001b[0m\u001b[1;33m)\u001b[0m\u001b[1;33m\u001b[0m\u001b[0m\n\u001b[0m\u001b[1;32m      5\u001b[0m \u001b[0mprint\u001b[0m\u001b[1;33m(\u001b[0m\u001b[1;34m\"accuracy : \"\u001b[0m\u001b[1;33m,\u001b[0m \u001b[0mtest_acc\u001b[0m\u001b[1;33m)\u001b[0m\u001b[1;33m\u001b[0m\u001b[0m\n",
      "\u001b[0;32mc:\\users\\sh\\anaconda3\\lib\\site-packages\\tensorflow\\python\\client\\session.py\u001b[0m in \u001b[0;36mrun\u001b[0;34m(self, fetches, feed_dict, options, run_metadata)\u001b[0m\n\u001b[1;32m    764\u001b[0m     \u001b[1;32mtry\u001b[0m\u001b[1;33m:\u001b[0m\u001b[1;33m\u001b[0m\u001b[0m\n\u001b[1;32m    765\u001b[0m       result = self._run(None, fetches, feed_dict, options_ptr,\n\u001b[0;32m--> 766\u001b[0;31m                          run_metadata_ptr)\n\u001b[0m\u001b[1;32m    767\u001b[0m       \u001b[1;32mif\u001b[0m \u001b[0mrun_metadata\u001b[0m\u001b[1;33m:\u001b[0m\u001b[1;33m\u001b[0m\u001b[0m\n\u001b[1;32m    768\u001b[0m         \u001b[0mproto_data\u001b[0m \u001b[1;33m=\u001b[0m \u001b[0mtf_session\u001b[0m\u001b[1;33m.\u001b[0m\u001b[0mTF_GetBuffer\u001b[0m\u001b[1;33m(\u001b[0m\u001b[0mrun_metadata_ptr\u001b[0m\u001b[1;33m)\u001b[0m\u001b[1;33m\u001b[0m\u001b[0m\n",
      "\u001b[0;32mc:\\users\\sh\\anaconda3\\lib\\site-packages\\tensorflow\\python\\client\\session.py\u001b[0m in \u001b[0;36m_run\u001b[0;34m(self, handle, fetches, feed_dict, options, run_metadata)\u001b[0m\n\u001b[1;32m    962\u001b[0m     \u001b[1;32mif\u001b[0m \u001b[0mfinal_fetches\u001b[0m \u001b[1;32mor\u001b[0m \u001b[0mfinal_targets\u001b[0m\u001b[1;33m:\u001b[0m\u001b[1;33m\u001b[0m\u001b[0m\n\u001b[1;32m    963\u001b[0m       results = self._do_run(handle, final_targets, final_fetches,\n\u001b[0;32m--> 964\u001b[0;31m                              feed_dict_string, options, run_metadata)\n\u001b[0m\u001b[1;32m    965\u001b[0m     \u001b[1;32melse\u001b[0m\u001b[1;33m:\u001b[0m\u001b[1;33m\u001b[0m\u001b[0m\n\u001b[1;32m    966\u001b[0m       \u001b[0mresults\u001b[0m \u001b[1;33m=\u001b[0m \u001b[1;33m[\u001b[0m\u001b[1;33m]\u001b[0m\u001b[1;33m\u001b[0m\u001b[0m\n",
      "\u001b[0;32mc:\\users\\sh\\anaconda3\\lib\\site-packages\\tensorflow\\python\\client\\session.py\u001b[0m in \u001b[0;36m_do_run\u001b[0;34m(self, handle, target_list, fetch_list, feed_dict, options, run_metadata)\u001b[0m\n\u001b[1;32m   1012\u001b[0m     \u001b[1;32mif\u001b[0m \u001b[0mhandle\u001b[0m \u001b[1;32mis\u001b[0m \u001b[1;32mNone\u001b[0m\u001b[1;33m:\u001b[0m\u001b[1;33m\u001b[0m\u001b[0m\n\u001b[1;32m   1013\u001b[0m       return self._do_call(_run_fn, self._session, feed_dict, fetch_list,\n\u001b[0;32m-> 1014\u001b[0;31m                            target_list, options, run_metadata)\n\u001b[0m\u001b[1;32m   1015\u001b[0m     \u001b[1;32melse\u001b[0m\u001b[1;33m:\u001b[0m\u001b[1;33m\u001b[0m\u001b[0m\n\u001b[1;32m   1016\u001b[0m       return self._do_call(_prun_fn, self._session, handle, feed_dict,\n",
      "\u001b[0;32mc:\\users\\sh\\anaconda3\\lib\\site-packages\\tensorflow\\python\\client\\session.py\u001b[0m in \u001b[0;36m_do_call\u001b[0;34m(self, fn, *args)\u001b[0m\n\u001b[1;32m   1032\u001b[0m         \u001b[1;32mexcept\u001b[0m \u001b[0mKeyError\u001b[0m\u001b[1;33m:\u001b[0m\u001b[1;33m\u001b[0m\u001b[0m\n\u001b[1;32m   1033\u001b[0m           \u001b[1;32mpass\u001b[0m\u001b[1;33m\u001b[0m\u001b[0m\n\u001b[0;32m-> 1034\u001b[0;31m       \u001b[1;32mraise\u001b[0m \u001b[0mtype\u001b[0m\u001b[1;33m(\u001b[0m\u001b[0me\u001b[0m\u001b[1;33m)\u001b[0m\u001b[1;33m(\u001b[0m\u001b[0mnode_def\u001b[0m\u001b[1;33m,\u001b[0m \u001b[0mop\u001b[0m\u001b[1;33m,\u001b[0m \u001b[0mmessage\u001b[0m\u001b[1;33m)\u001b[0m\u001b[1;33m\u001b[0m\u001b[0m\n\u001b[0m\u001b[1;32m   1035\u001b[0m \u001b[1;33m\u001b[0m\u001b[0m\n\u001b[1;32m   1036\u001b[0m   \u001b[1;32mdef\u001b[0m \u001b[0m_extend_graph\u001b[0m\u001b[1;33m(\u001b[0m\u001b[0mself\u001b[0m\u001b[1;33m)\u001b[0m\u001b[1;33m:\u001b[0m\u001b[1;33m\u001b[0m\u001b[0m\n",
      "\u001b[0;31mResourceExhaustedError\u001b[0m: OOM when allocating tensor with shape[3589,64,48,48]\n\t [[Node: Conv2D_1 = Conv2D[T=DT_FLOAT, data_format=\"NHWC\", padding=\"SAME\", strides=[1, 1, 1, 1], use_cudnn_on_gpu=true, _device=\"/job:localhost/replica:0/task:0/gpu:0\"](Relu, Variable_1/read)]]\n\t [[Node: Mean_2/_31 = _Recv[client_terminated=false, recv_device=\"/job:localhost/replica:0/task:0/cpu:0\", send_device=\"/job:localhost/replica:0/task:0/gpu:0\", send_device_incarnation=1, tensor_name=\"edge_193_Mean_2\", tensor_type=DT_FLOAT, _device=\"/job:localhost/replica:0/task:0/cpu:0\"]()]]\n\nCaused by op 'Conv2D_1', defined at:\n  File \"c:\\users\\sh\\anaconda3\\lib\\runpy.py\", line 184, in _run_module_as_main\n    \"__main__\", mod_spec)\n  File \"c:\\users\\sh\\anaconda3\\lib\\runpy.py\", line 85, in _run_code\n    exec(code, run_globals)\n  File \"c:\\users\\sh\\anaconda3\\lib\\site-packages\\ipykernel\\__main__.py\", line 3, in <module>\n    app.launch_new_instance()\n  File \"c:\\users\\sh\\anaconda3\\lib\\site-packages\\traitlets\\config\\application.py\", line 653, in launch_instance\n    app.start()\n  File \"c:\\users\\sh\\anaconda3\\lib\\site-packages\\ipykernel\\kernelapp.py\", line 474, in start\n    ioloop.IOLoop.instance().start()\n  File \"c:\\users\\sh\\anaconda3\\lib\\site-packages\\zmq\\eventloop\\ioloop.py\", line 162, in start\n    super(ZMQIOLoop, self).start()\n  File \"c:\\users\\sh\\anaconda3\\lib\\site-packages\\tornado\\ioloop.py\", line 887, in start\n    handler_func(fd_obj, events)\n  File \"c:\\users\\sh\\anaconda3\\lib\\site-packages\\tornado\\stack_context.py\", line 275, in null_wrapper\n    return fn(*args, **kwargs)\n  File \"c:\\users\\sh\\anaconda3\\lib\\site-packages\\zmq\\eventloop\\zmqstream.py\", line 440, in _handle_events\n    self._handle_recv()\n  File \"c:\\users\\sh\\anaconda3\\lib\\site-packages\\zmq\\eventloop\\zmqstream.py\", line 472, in _handle_recv\n    self._run_callback(callback, msg)\n  File \"c:\\users\\sh\\anaconda3\\lib\\site-packages\\zmq\\eventloop\\zmqstream.py\", line 414, in _run_callback\n    callback(*args, **kwargs)\n  File \"c:\\users\\sh\\anaconda3\\lib\\site-packages\\tornado\\stack_context.py\", line 275, in null_wrapper\n    return fn(*args, **kwargs)\n  File \"c:\\users\\sh\\anaconda3\\lib\\site-packages\\ipykernel\\kernelbase.py\", line 276, in dispatcher\n    return self.dispatch_shell(stream, msg)\n  File \"c:\\users\\sh\\anaconda3\\lib\\site-packages\\ipykernel\\kernelbase.py\", line 228, in dispatch_shell\n    handler(stream, idents, msg)\n  File \"c:\\users\\sh\\anaconda3\\lib\\site-packages\\ipykernel\\kernelbase.py\", line 390, in execute_request\n    user_expressions, allow_stdin)\n  File \"c:\\users\\sh\\anaconda3\\lib\\site-packages\\ipykernel\\ipkernel.py\", line 196, in do_execute\n    res = shell.run_cell(code, store_history=store_history, silent=silent)\n  File \"c:\\users\\sh\\anaconda3\\lib\\site-packages\\ipykernel\\zmqshell.py\", line 501, in run_cell\n    return super(ZMQInteractiveShell, self).run_cell(*args, **kwargs)\n  File \"c:\\users\\sh\\anaconda3\\lib\\site-packages\\IPython\\core\\interactiveshell.py\", line 2717, in run_cell\n    interactivity=interactivity, compiler=compiler, result=result)\n  File \"c:\\users\\sh\\anaconda3\\lib\\site-packages\\IPython\\core\\interactiveshell.py\", line 2821, in run_ast_nodes\n    if self.run_code(code, result):\n  File \"c:\\users\\sh\\anaconda3\\lib\\site-packages\\IPython\\core\\interactiveshell.py\", line 2881, in run_code\n    exec(code_obj, self.user_global_ns, self.user_ns)\n  File \"<ipython-input-8-100967fbe6bd>\", line 89, in <module>\n    l1_2=tf.nn.relu(tf.nn.conv2d(l1_1,w1_2, strides=[1,1,1,1], padding= 'SAME')+b1_2)#(?,48,48,64)\n  File \"c:\\users\\sh\\anaconda3\\lib\\site-packages\\tensorflow\\python\\ops\\gen_nn_ops.py\", line 396, in conv2d\n    data_format=data_format, name=name)\n  File \"c:\\users\\sh\\anaconda3\\lib\\site-packages\\tensorflow\\python\\framework\\op_def_library.py\", line 759, in apply_op\n    op_def=op_def)\n  File \"c:\\users\\sh\\anaconda3\\lib\\site-packages\\tensorflow\\python\\framework\\ops.py\", line 2240, in create_op\n    original_op=self._default_original_op, op_def=op_def)\n  File \"c:\\users\\sh\\anaconda3\\lib\\site-packages\\tensorflow\\python\\framework\\ops.py\", line 1128, in __init__\n    self._traceback = _extract_stack()\n\nResourceExhaustedError (see above for traceback): OOM when allocating tensor with shape[3589,64,48,48]\n\t [[Node: Conv2D_1 = Conv2D[T=DT_FLOAT, data_format=\"NHWC\", padding=\"SAME\", strides=[1, 1, 1, 1], use_cudnn_on_gpu=true, _device=\"/job:localhost/replica:0/task:0/gpu:0\"](Relu, Variable_1/read)]]\n\t [[Node: Mean_2/_31 = _Recv[client_terminated=false, recv_device=\"/job:localhost/replica:0/task:0/cpu:0\", send_device=\"/job:localhost/replica:0/task:0/gpu:0\", send_device_incarnation=1, tensor_name=\"edge_193_Mean_2\", tensor_type=DT_FLOAT, _device=\"/job:localhost/replica:0/task:0/cpu:0\"]()]]\n"
     ],
     "output_type": "error"
    }
   ],
   "source": [
    "cor_pre=tf.equal(tf.arg_max(output,1),tf.arg_max(y,1))\n",
    "acc_=tf.reduce_mean(tf.cast(cor_pre,tf.float32))\n",
    "feed_dict={x1:test_image, y:test_label,keep_prob:1.0,learning_rate:0.0001}\n",
    "test_acc=sess.run(acc_,feed_dict=feed_dict)\n",
    "print(\"accuracy : \", test_acc)"
   ]
  },
  {
   "cell_type": "code",
   "execution_count": null,
   "metadata": {
    "collapsed": true
   },
   "outputs": [],
   "source": [
    ""
   ]
  }
 ],
 "metadata": {
  "anaconda-cloud": {},
  "kernelspec": {
   "display_name": "Python 3",
   "language": "python",
   "name": "python3"
  },
  "language_info": {
   "codemirror_mode": {
    "name": "ipython",
    "version": 3.0
   },
   "file_extension": ".py",
   "mimetype": "text/x-python",
   "name": "python",
   "nbconvert_exporter": "python",
   "pygments_lexer": "ipython3",
   "version": "3.5.3"
  }
 },
 "nbformat": 4,
 "nbformat_minor": 0
}